{
  "nbformat": 4,
  "nbformat_minor": 0,
  "metadata": {
    "colab": {
      "provenance": [],
      "authorship_tag": "ABX9TyOKpGJntpF4hthfp8K+W92j",
      "include_colab_link": true
    },
    "kernelspec": {
      "name": "python3",
      "display_name": "Python 3"
    },
    "language_info": {
      "name": "python"
    }
  },
  "cells": [
    {
      "cell_type": "markdown",
      "metadata": {
        "id": "view-in-github",
        "colab_type": "text"
      },
      "source": [
        "<a href=\"https://colab.research.google.com/github/Bhuvana1797/Data-Analysis-with-python-/blob/main/Python_DataAnalysis_Internshp%20TASK-5.ipynb\" target=\"_parent\"><img src=\"https://colab.research.google.com/assets/colab-badge.svg\" alt=\"Open In Colab\"/></a>"
      ]
    },
    {
      "cell_type": "code",
      "execution_count": 1,
      "metadata": {
        "colab": {
          "base_uri": "https://localhost:8080/"
        },
        "id": "Oi-WpLI2DEX7",
        "outputId": "b6381523-8d6d-4fec-96ca-e5b8399cc4e6"
      },
      "outputs": [
        {
          "output_type": "stream",
          "name": "stdout",
          "text": [
            "Mounted at /content/drive\n"
          ]
        }
      ],
      "source": [
        "from google.colab import drive\n",
        "drive.mount('/content/drive')\n"
      ]
    },
    {
      "cell_type": "code",
      "source": [
        "import pandas as pd\n",
        "from sklearn.ensemble import RandomForestClassifier\n",
        "from sklearn.model_selection import train_test_split\n",
        "from sklearn.decomposition import PCA\n",
        "from sklearn.preprocessing import StandardScaler\n",
        "from sklearn.feature_selection import RFE\n",
        "from sklearn.metrics import accuracy_score\n",
        "\n"
      ],
      "metadata": {
        "id": "jR-mTkpRGjt6"
      },
      "execution_count": 14,
      "outputs": []
    },
    {
      "cell_type": "code",
      "source": [
        "# Load your dataset\n",
        "df = pd.read_csv('/content/hearts.csv')\n",
        "\n"
      ],
      "metadata": {
        "id": "tDhIWBVIGqzW"
      },
      "execution_count": 15,
      "outputs": []
    },
    {
      "cell_type": "code",
      "source": [
        "# 1. Feature Generation\n",
        "\n",
        "# Example: Categorize age into groups\n",
        "df['age_group'] = pd.cut(df['age'], bins=[0, 30, 50, 100], labels=['young', 'middle-aged', 'senior'])\n",
        "\n",
        "# Example: Categorize cholesterol levels\n",
        "df['cholesterol_category'] = pd.cut(df['chol'], bins=[0, 200, 240, 600], labels=['normal', 'high', 'very high'])\n",
        "\n",
        "# Example: Calculate Heart Rate Reserve\n",
        "df['heart_rate_reserve'] = df['thalach'] - df['trestbps']\n",
        "\n",
        "# Example: Blood Pressure Ratio\n",
        "df['bp_ratio'] = df['trestbps'] / df['thalach']\n",
        "\n",
        "# Drop any columns that are not useful or redundant, if needed\n",
        "# df = df.drop(['column_name'], axis=1)\n",
        "\n",
        "# Define features (X) and target (y)\n",
        "X = df.drop('target', axis=1)\n",
        "y = df['target']\n",
        "\n",
        "# Split the dataset into training and testing sets\n",
        "X_train, X_test, y_train, y_test = train_test_split(X, y, test_size=0.2, random_state=42)\n",
        "\n"
      ],
      "metadata": {
        "id": "1jz0EUqdGxNu"
      },
      "execution_count": 16,
      "outputs": []
    },
    {
      "cell_type": "code",
      "source": [
        "# 2. Feature Selection using Recursive Feature Elimination (RFE)\n",
        "\n",
        "# Initialize a Random Forest model\n",
        "rf_model = RandomForestClassifier(random_state=42)\n",
        "\n",
        "# Initialize RFE with the Random Forest model, selecting the top 5 features\n",
        "rfe = RFE(estimator=rf_model, n_features_to_select=5, step=1)\n",
        "\n",
        "# Convert categorical columns to numerical using one-hot encoding\n",
        "X_train = pd.get_dummies(X_train)\n",
        "X_test = pd.get_dummies(X_test) # Apply one-hot encoding to X_test before fitting RFE\n",
        "\n",
        "# Fit RFE\n",
        "rfe.fit(X_train, y_train)\n",
        "\n",
        "# Selected features by RFE\n",
        "selected_features = X_train.columns[rfe.support_]\n",
        "print(f\"Selected Features by RFE: {selected_features}\")\n",
        "\n",
        "# Transform the dataset to include only selected features\n",
        "X_train_rfe = rfe.transform(X_train)\n",
        "X_test_rfe = rfe.transform(X_test)\n",
        "\n",
        "# Train the model using the selected features\n",
        "rf_model.fit(X_train_rfe, y_train)\n",
        "\n",
        "# Predict on the test set and evaluate\n",
        "y_pred = rf_model.predict(X_test_rfe)\n",
        "accuracy = accuracy_score(y_test, y_pred)\n",
        "print(f\"Test Accuracy with RFE: {accuracy}\")"
      ],
      "metadata": {
        "colab": {
          "base_uri": "https://localhost:8080/"
        },
        "id": "tghalPHhHNsE",
        "outputId": "c33a4ff1-0937-46ab-ca12-02c1a438d9c7"
      },
      "execution_count": 19,
      "outputs": [
        {
          "output_type": "stream",
          "name": "stdout",
          "text": [
            "Selected Features by RFE: Index(['age', 'cp', 'thalach', 'oldpeak', 'heart_rate_reserve'], dtype='object')\n",
            "Test Accuracy with RFE: 0.9853658536585366\n"
          ]
        }
      ]
    },
    {
      "cell_type": "code",
      "source": [
        "# 3. Optional: Apply PCA on the selected features\n",
        "\n",
        "# Standardize the selected features\n",
        "scaler = StandardScaler()\n",
        "X_train_rfe_scaled = scaler.fit_transform(X_train_rfe)\n",
        "X_test_rfe_scaled = scaler.transform(X_test_rfe)\n",
        "\n",
        "# Apply PCA\n",
        "pca = PCA(n_components=3)  # Adjust n_components based on explained variance\n",
        "X_train_pca = pca.fit_transform(X_train_rfe_scaled)\n",
        "X_test_pca = pca.transform(X_test_rfe_scaled)\n",
        "\n",
        "# Train the model on PCA-transformed features\n",
        "rf_model.fit(X_train_pca, y_train)\n",
        "\n",
        "# Predict and evaluate\n",
        "y_pred_pca = rf_model.predict(X_test_pca)\n",
        "accuracy_pca = accuracy_score(y_test, y_pred_pca)\n",
        "print(f\"Test Accuracy with RFE + PCA: {accuracy_pca}\")"
      ],
      "metadata": {
        "colab": {
          "base_uri": "https://localhost:8080/"
        },
        "id": "QqbXpLLBHTSe",
        "outputId": "9814ade8-bedc-4666-8dc3-5486ff762a5a"
      },
      "execution_count": 20,
      "outputs": [
        {
          "output_type": "stream",
          "name": "stdout",
          "text": [
            "Test Accuracy with RFE + PCA: 1.0\n"
          ]
        }
      ]
    }
  ]
}